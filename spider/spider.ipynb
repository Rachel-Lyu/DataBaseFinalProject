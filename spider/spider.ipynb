{
 "metadata": {
  "language_info": {
   "codemirror_mode": {
    "name": "ipython",
    "version": 3
   },
   "file_extension": ".py",
   "mimetype": "text/x-python",
   "name": "python",
   "nbconvert_exporter": "python",
   "pygments_lexer": "ipython3",
   "version": "3.8.5-final"
  },
  "orig_nbformat": 2,
  "kernelspec": {
   "name": "python3",
   "display_name": "Python 3",
   "language": "python"
  }
 },
 "nbformat": 4,
 "nbformat_minor": 2,
 "cells": [
  {
   "cell_type": "code",
   "execution_count": 1,
   "metadata": {},
   "outputs": [],
   "source": [
    "from selenium import webdriver\n",
    "import time\n",
    "# import pymysql\n",
    "import random\n",
    "import re\n",
    "from lxml import etree\n",
    "father_class = ['音乐会', '话剧歌剧', '演唱会', '曲苑杂坛', '展览休闲', '舞蹈芭蕾', '体育']\n",
    "son_class = [\n",
    "    ['室内乐及古乐', '独奏'],\n",
    "    ['话剧', '音乐剧'],\n",
    "    ['livehouse', '流行', '音乐节'],\n",
    "    ['戏曲', '相声', '魔术'],\n",
    "    ['展会','特色体验'],\n",
    "    ['舞蹈'],\n",
    "    ['球类运动','田径','电竞','篮球']\n",
    "]"
   ]
  },
  {
   "cell_type": "code",
   "execution_count": 2,
   "metadata": {},
   "outputs": [],
   "source": [
    "def get_data(url):\n",
    "    io = open(\"res.text\", 'w')\n",
    "    driver = webdriver.Chrome(r'chromedriver')\n",
    "    driver.get(url)\n",
    "    time.sleep(3)\n",
    "    for idx, cls in enumerate(father_class):\n",
    "        driver.find_element_by_xpath(\"//*[contains(text(), '{}')]\".format(cls)).click()\n",
    "        time.sleep(1)\n",
    "        for son_cls in son_class[idx]:\n",
    "            # print(son_cls)\n",
    "            driver.find_element_by_xpath(\"//*[contains(text(), '{}')]\".format(son_cls)).click()\n",
    "            time.sleep(1)\n",
    "            for i in range(1):\n",
    "                imgs = driver.find_elements_by_xpath(\"//img[@alt='项目图片']\")\n",
    "                element = driver.find_elements_by_xpath(\"//div[@class='items']\")\n",
    "                source = driver.page_source\n",
    "                html = etree.HTML(source)\n",
    "                item = html.xpath(\"//img[@alt='项目图片']\")\n",
    "                for idx, each in enumerate(element):            \n",
    "                    print('###', cls, son_cls, sep=' ', file = io)\n",
    "                    result = re.split('[\\n]', each.text)\n",
    "                    for res in result:\n",
    "                        print(res, end='\\t', file=io)\n",
    "                    print('\\nhttps://img.alicdn.com/bao/uploaded'+item[idx].get('src'), file=io)\n",
    "                    imgs[idx].click()\n",
    "                    window = driver.window_handles\n",
    "                    driver.switch_to.window(window[1])\n",
    "                    details = driver.find_element_by_xpath(\"//div[@id='detail' and @class='list']\")\n",
    "                    print(details.text, file=io)\n",
    "                    driver.close()\n",
    "                    time.sleep(0.5)\n",
    "                    driver.switch_to.window(window[0])\n",
    "\n",
    "                # driver.find_element_by_xpath(\"//button[@class='btn-next']\").click()\n",
    "                # time.sleep(3)\n",
    "    driver.close()\n",
    "    io.close()"
   ]
  },
  {
   "cell_type": "code",
   "execution_count": 3,
   "metadata": {
    "tags": []
   },
   "outputs": [],
   "source": [
    "url = 'https://search.damai.cn/search.html'\n",
    "# get_data(url)"
   ]
  },
  {
   "cell_type": "code",
   "execution_count": 8,
   "metadata": {},
   "outputs": [],
   "source": [
    "i = 0\n",
    "cls_dict = {}\n",
    "for idx, f_cls in enumerate(father_class):\n",
    "    cls_dict[f_cls] = i\n",
    "    i += 1\n",
    "    for s_cls in son_class[idx]:\n",
    "        cls_dict[s_cls] = i\n",
    "        i += 1"
   ]
  },
  {
   "cell_type": "code",
   "execution_count": 16,
   "metadata": {
    "tags": []
   },
   "outputs": [],
   "source": [
    "f = open('res.text', 'r')\n",
    "# poster = open('poster.csv', 'w')\n",
    "# ticket = open('ticket.csv', 'w')\n",
    "# print('id,name,type,left,price,detail,city,venues,beginTime,endTime', file=ticket)\n",
    "ticket = open('data.sql', 'w')\n",
    "print('USE dbTicket;', file=ticket)\n",
    "print(\"DELETE FROM ticket_type WHERE TRUE;\", file=ticket)\n",
    "print(\"DELETE FROM ticket WHERE TRUE;\", file=ticket)\n",
    "\n",
    "for idx, f_cls in enumerate(father_class):\n",
    "    print('INSERT INTO ticket_type VALUES', file=ticket)\n",
    "    print(\"('{}', NULL),\".format(f_cls), file=ticket)\n",
    "    for i in range(len(son_class[idx]) - 1):\n",
    "        print(\"('{}', '{}'),\".format(son_class[idx][i], f_cls), file=ticket)\n",
    "    print(\"('{}', '{}');\\n\".format(son_class[idx][-1], f_cls), file=ticket)\n"
   ]
  },
  {
   "cell_type": "code",
   "execution_count": 17,
   "metadata": {},
   "outputs": [],
   "source": [
    "\n",
    "i = 0\n",
    "tid = 0\n",
    "line = ''\n",
    "line = f.readline().strip()\n",
    "while i < 300:\n",
    "    i += 1\n",
    "# while True:\n",
    "    line = line.strip()\n",
    "    tp = line.rsplit(' ', 1)[1]\n",
    "    sline = f.readline().strip().split('\\t')\n",
    "    # lens = len(sline)\n",
    "    # print(sline)\n",
    "    nm = sline[1]\n",
    "    tname = nm[nm.find('】') + 2:]\n",
    "    # print(len(tname), end = ',')\n",
    "    idx = 2\n",
    "    if sline[idx].startswith('艺人'):\n",
    "        idx += 1\n",
    "    elif sline[idx].find('|') == -1:\n",
    "        while True:\n",
    "            line = f.readline()\n",
    "            if not line or line.startswith('###'):\n",
    "                break\n",
    "        continue\n",
    "\n",
    "    hotness, left = random.randint(10, 1000), random.randint(50, 400) \n",
    "    # print(hotness)\n",
    "    # print(left)\n",
    "    place = sline[idx]\n",
    "    city, venues = place.split('|')\n",
    "    city = city.strip()\n",
    "    venues = venues.strip()\n",
    "    # print(city)\n",
    "    # print(venues)\n",
    "    idx += 1\n",
    "    \n",
    "    # date and time\n",
    "    date_time = sline[idx]\n",
    "    bgtime = date_time[:10].replace('.', '-')\n",
    "    # print(bgtime)\n",
    "    edtime = ''\n",
    "    if '-' not in date_time:\n",
    "        if ':' in date_time:\n",
    "            bgtime += ' ' + date_time[-5:]\n",
    "        else:\n",
    "            bgtime += ' 08:00'\n",
    "        edtime = bgtime\n",
    "    else:\n",
    "        if len(date_time) == 21:\n",
    "            edtime = date_time[-10:].replace('.', '-')\n",
    "        else:\n",
    "            edtime = date_time[:4] + date_time[-6:].replace('.', '-')\n",
    "        bgtime += ' 08:00'\n",
    "        edtime += ' 08:00'\n",
    "    # print(date_time)\n",
    "    # print(bgtime)\n",
    "    \n",
    "    line = f.readline().strip()\n",
    "    url = line\n",
    "    idx += 1\n",
    "\n",
    "    if len(sline[idx]) == 3:\n",
    "        idx += 1\n",
    "    price = sline[idx][:sline[idx].find('元')-1]\n",
    "    hprice = price.split('-')[0]\n",
    "    lprice = price.split('-')[-1]\n",
    "    \n",
    "    # print(hprice, lprice)\n",
    "\n",
    "    # print(line)\n",
    "    detail = ''\n",
    "    while True:\n",
    "        line = f.readline()\n",
    "        # print(line)\n",
    "        if not line or line.startswith('###'):\n",
    "            tid += 1\n",
    "            print(\"INSERT INTO ticket VALUE({}, {}, '{}', '{}', '{}', '{}', {}, '{}', '{}', '{}', '{}');\".format(tid, left, bgtime, city, detail.replace(\"'\", r\"\\'\")[:3000], edtime, lprice, tname, tp, venues, url), file=ticket)\n",
    "            break\n",
    "        line = line.replace('\\n', r'\\n')\n",
    "        detail += line\n",
    "    if not line:\n",
    "        break\n",
    "\n",
    "f.close()\n",
    "# poster.close()\n",
    "ticket.close()\n",
    "    "
   ]
  },
  {
   "cell_type": "code",
   "execution_count": null,
   "metadata": {},
   "outputs": [],
   "source": []
  },
  {
   "cell_type": "code",
   "execution_count": 14,
   "metadata": {},
   "outputs": [
    {
     "output_type": "execute_result",
     "data": {
      "text/plain": [
       "21"
      ]
     },
     "metadata": {},
     "execution_count": 14
    }
   ],
   "source": [
    "len(\"2020.12.23-2021.01.03\")"
   ]
  },
  {
   "cell_type": "code",
   "execution_count": 10,
   "metadata": {},
   "outputs": [],
   "source": [
    "a = 'a\\n'"
   ]
  },
  {
   "cell_type": "code",
   "execution_count": 18,
   "metadata": {},
   "outputs": [],
   "source": []
  },
  {
   "cell_type": "code",
   "execution_count": 19,
   "metadata": {},
   "outputs": [
    {
     "output_type": "execute_result",
     "data": {
      "text/plain": [
       "1"
      ]
     },
     "metadata": {},
     "execution_count": 19
    }
   ],
   "source": []
  },
  {
   "cell_type": "code",
   "execution_count": 14,
   "metadata": {},
   "outputs": [],
   "source": []
  }
 ]
}